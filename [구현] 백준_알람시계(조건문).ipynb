{
 "cells": [
  {
   "cell_type": "code",
   "execution_count": 17,
   "id": "69f0e02f",
   "metadata": {},
   "outputs": [
    {
     "name": "stdout",
     "output_type": "stream",
     "text": [
      "23 40\n",
      "22 55\n"
     ]
    }
   ],
   "source": [
    "####################################\n",
    "########## STEP1 입력값 받기 \n",
    "####################################\n",
    "\n",
    "h,m = map(int, input().split())\n",
    "\n",
    "####################################\n",
    "########## STEP2 로직 구현 \n",
    "####################################\n",
    "\n",
    "# 상근이가 설정한 알람의 '분'이 >=45 일 때 => '시' 변동 없음\n",
    "if m >= 45:\n",
    "    nm = m - 45\n",
    "    nh = h\n",
    "# 상근이가 설정한 알람의 '분'이 <45 일 때 => '시'는 1이 줄음\n",
    "# 단, '시'가 0일 때는 24로 바뀜 \n",
    "else:\n",
    "    nm = 60 - (45 - m)\n",
    "    if h == 0:\n",
    "        nh = 23\n",
    "    else:\n",
    "        nh = h - 1\n",
    "        \n",
    "####################################\n",
    "########## STEP3 출력 \n",
    "####################################        \n",
    "print(nh,nm)"
   ]
  },
  {
   "cell_type": "code",
   "execution_count": null,
   "id": "5cfbe9c9",
   "metadata": {},
   "outputs": [],
   "source": []
  }
 ],
 "metadata": {
  "kernelspec": {
   "display_name": "Python 3 (ipykernel)",
   "language": "python",
   "name": "python3"
  },
  "language_info": {
   "codemirror_mode": {
    "name": "ipython",
    "version": 3
   },
   "file_extension": ".py",
   "mimetype": "text/x-python",
   "name": "python",
   "nbconvert_exporter": "python",
   "pygments_lexer": "ipython3",
   "version": "3.11.5"
  }
 },
 "nbformat": 4,
 "nbformat_minor": 5
}
