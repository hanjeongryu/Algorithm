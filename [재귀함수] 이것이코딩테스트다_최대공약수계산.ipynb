{
  "nbformat": 4,
  "nbformat_minor": 0,
  "metadata": {
    "colab": {
      "provenance": []
    },
    "kernelspec": {
      "name": "python3",
      "display_name": "Python 3"
    },
    "language_info": {
      "name": "python"
    }
  },
  "cells": [
    {
      "cell_type": "markdown",
      "source": [
        "## 정답지\n",
        "[풀이 key]\n",
        "- A와 A/B 나머지의 최대 공약수가 곧 A와 B의 최대공약수임을 활용\n",
        "- 재귀함수 사용\n"
      ],
      "metadata": {
        "id": "-t174ojCrvyQ"
      }
    },
    {
      "cell_type": "code",
      "source": [
        "def gcd(a,b):\n",
        "  if a % b == 0:\n",
        "    return b\n",
        "  return gcd(b,a%b)\n",
        "\n",
        "print(gcd(192,162))"
      ],
      "metadata": {
        "colab": {
          "base_uri": "https://localhost:8080/"
        },
        "id": "33DeF4O7nhKY",
        "outputId": "6768cd39-8c71-440c-f3ac-c95380cd455d"
      },
      "execution_count": 6,
      "outputs": [
        {
          "output_type": "stream",
          "name": "stdout",
          "text": [
            "6\n"
          ]
        }
      ]
    }
  ]
}
