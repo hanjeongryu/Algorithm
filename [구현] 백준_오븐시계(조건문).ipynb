{
 "cells": [
  {
   "cell_type": "code",
   "execution_count": 22,
   "id": "aed976a9",
   "metadata": {},
   "outputs": [
    {
     "name": "stdout",
     "output_type": "stream",
     "text": [
      "14 30\n",
      "20\n",
      "20 0\n",
      "14 50\n"
     ]
    }
   ],
   "source": [
    "#####################################\n",
    "########## STEP1 입력값 받기 \n",
    "#####################################\n",
    "\n",
    "h,m = map(int, input().split())\n",
    "time = int(input())\n",
    "\n",
    "#####################################\n",
    "########## STEP2 소요 시간 '시','분' 분리 \n",
    "#####################################\n",
    "\n",
    "add_m = time % 60 \n",
    "add_h = time // 60\n",
    "\n",
    "#####################################\n",
    "########## STEP3 현재 시간 + 소요 시간 \n",
    "#####################################\n",
    "\n",
    "nh = h + add_h\n",
    "nm = m + add_m \n",
    "\n",
    "#####################################\n",
    "########## STEP4 예외 처리\n",
    "#####################################\n",
    "\n",
    "# 현재 시간에 소요 시간을 더했을 때 '분'이 >=60\n",
    "if nm >= 60:\n",
    "    nm = nm % 60\n",
    "    nh = nh + 1\n",
    "    \n",
    "# 23을 넘어가는 '시'의 예외처리를 위함\n",
    "nh = nh % 24\n",
    "\n",
    "#####################################\n",
    "########## STEP5 결과값 \n",
    "#####################################\n",
    "\n",
    "print(nh, nm)"
   ]
  },
  {
   "cell_type": "code",
   "execution_count": 21,
   "id": "779138d9",
   "metadata": {},
   "outputs": [
    {
     "data": {
      "text/plain": [
       "0"
      ]
     },
     "execution_count": 21,
     "metadata": {},
     "output_type": "execute_result"
    }
   ],
   "source": [
    "24 % 24"
   ]
  },
  {
   "cell_type": "code",
   "execution_count": 4,
   "id": "8f4b09aa",
   "metadata": {},
   "outputs": [
    {
     "data": {
      "text/plain": [
       "2"
      ]
     },
     "execution_count": 4,
     "metadata": {},
     "output_type": "execute_result"
    }
   ],
   "source": [
    "50 % 24"
   ]
  },
  {
   "cell_type": "code",
   "execution_count": 5,
   "id": "7700fc69",
   "metadata": {},
   "outputs": [
    {
     "data": {
      "text/plain": [
       "1"
      ]
     },
     "execution_count": 5,
     "metadata": {},
     "output_type": "execute_result"
    }
   ],
   "source": [
    "61 % 60"
   ]
  },
  {
   "cell_type": "code",
   "execution_count": null,
   "id": "627897cb",
   "metadata": {},
   "outputs": [],
   "source": []
  }
 ],
 "metadata": {
  "kernelspec": {
   "display_name": "Python 3 (ipykernel)",
   "language": "python",
   "name": "python3"
  },
  "language_info": {
   "codemirror_mode": {
    "name": "ipython",
    "version": 3
   },
   "file_extension": ".py",
   "mimetype": "text/x-python",
   "name": "python",
   "nbconvert_exporter": "python",
   "pygments_lexer": "ipython3",
   "version": "3.11.5"
  }
 },
 "nbformat": 4,
 "nbformat_minor": 5
}
