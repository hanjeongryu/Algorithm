{
  "nbformat": 4,
  "nbformat_minor": 0,
  "metadata": {
    "colab": {
      "provenance": []
    },
    "kernelspec": {
      "name": "python3",
      "display_name": "Python 3"
    },
    "language_info": {
      "name": "python"
    }
  },
  "cells": [
    {
      "cell_type": "markdown",
      "source": [
        "## 정답지\n",
        "[풀이 key]\n",
        "- for문에서 문자, 순자를 구분하여 append\n",
        "- for문 밖에서 문자는 정렬, 숫자는 합산하여 합치기\n"
      ],
      "metadata": {
        "id": "fhpTqCGg5-7G"
      }
    },
    {
      "cell_type": "code",
      "source": [
        "import time\n",
        "\n",
        "data = input()\n",
        "\n",
        "start_time = time.time()\n",
        "\n",
        "result = []\n",
        "value = 0\n",
        "\n",
        "# 문자를 하나씩 확인하며\n",
        "for d in data:\n",
        "  # 알파벳인 경우 결과 리스트에 삽입\n",
        "  if d.isalpha():\n",
        "    result.append(d)\n",
        "  # 숫자는 따로 더하기\n",
        "  else:\n",
        "    value += int(d)\n",
        "\n",
        "# 알파벳을 오름차순으로 정렬\n",
        "result.sort()\n",
        "\n",
        "# 숫자가 하나라도 존재하는 경우 가장 뒤에 삽입\n",
        "if value != 0:\n",
        "  result.append(str(value))\n",
        "\n",
        "# 최종 결과 출력(리스트를 문자열로 변환하여 출력)\n",
        "print(''.join(result))\n",
        "\n",
        "end_time = time.time()\n",
        "print(end_time - start_time)"
      ],
      "metadata": {
        "colab": {
          "base_uri": "https://localhost:8080/"
        },
        "id": "Ucin0pjj6Zu2",
        "outputId": "01849cba-3e02-4a2b-ad3f-fee9a9b0c4b6"
      },
      "execution_count": 23,
      "outputs": [
        {
          "output_type": "stream",
          "name": "stdout",
          "text": [
            "AJKDLSI412K4JSJ9D\n",
            "ADDIJJJKKLSS20\n",
            "0.0004475116729736328\n"
          ]
        }
      ]
    },
    {
      "cell_type": "markdown",
      "source": [
        "## 나의 풀이\n",
        "[풀이 key]\n",
        "- 입력값을 정렬한 후\n",
        "- for문에서 문자, 순자를 구분하여 더하기\n",
        "- for문 밖에서 문자와 숫자를 합치기"
      ],
      "metadata": {
        "id": "z2v7aN6t72Nk"
      }
    },
    {
      "cell_type": "code",
      "source": [
        "import time\n",
        "\n",
        "data = input()\n",
        "\n",
        "start_time = time.time()\n",
        "\n",
        "integer = 0\n",
        "alphabet = ''\n",
        "for d in sorted(data):\n",
        "  if ord(d) < 65:\n",
        "    integer += int(d)\n",
        "  else:\n",
        "    alphabet += d\n",
        "\n",
        "if integer != 0:\n",
        "  print(alphabet + str(integer))\n",
        "else:\n",
        "  print(alphabet)\n",
        "\n",
        "end_time = time.time()\n",
        "print(end_time - start_time)"
      ],
      "metadata": {
        "colab": {
          "base_uri": "https://localhost:8080/"
        },
        "id": "s5VhzVTQ3YD0",
        "outputId": "2976f333-6997-4d12-9b88-d69f447182b8"
      },
      "execution_count": 27,
      "outputs": [
        {
          "output_type": "stream",
          "name": "stdout",
          "text": [
            "AJKDLSI412K4JSJ9D\n",
            "12449ADDIJJJKKLSS\n",
            "0.0014336109161376953\n"
          ]
        }
      ]
    },
    {
      "cell_type": "markdown",
      "source": [
        "## 정답지와 나의 풀이 비교\n",
        "정답지 풀이와 비교했을 때 문자 처리에 차이가 있음  \n",
        "정답지는 append 후 필요한 처리를 하는 방법  \n",
        "내풀이는 append를 하면서 필요한 처리를 하는 방법을 사용  \n",
        "문자열이 길수록 정답지 코드와 내코드 간 속도 갭이 있었음(정답지 코드가 빠름)  \n",
        "결과적으로 append 후 필요한 처리를 하는 방법이 효과적임을 확인"
      ],
      "metadata": {
        "id": "9hwTOaDc9GBD"
      }
    }
  ]
}