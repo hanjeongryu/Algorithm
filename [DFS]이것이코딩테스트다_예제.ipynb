{
  "nbformat": 4,
  "nbformat_minor": 0,
  "metadata": {
    "colab": {
      "provenance": []
    },
    "kernelspec": {
      "name": "python3",
      "display_name": "Python 3"
    },
    "language_info": {
      "name": "python"
    }
  },
  "cells": [
    {
      "cell_type": "markdown",
      "source": [
        "## 정답지\n",
        "[풀이 key]\n",
        "\n",
        "- 재귀함수 사용"
      ],
      "metadata": {
        "id": "lr_j8bkTKgol"
      }
    },
    {
      "cell_type": "code",
      "source": [
        "graph = [\n",
        " []\n",
        ",[2,3,8]\n",
        ",[1,7]\n",
        ",[1,4,5]\n",
        ",[3,5]\n",
        ",[3,4]\n",
        ",[7]\n",
        ",[2,6,8]\n",
        ",[1,7]\n",
        "]\n",
        "visited = [False]*9"
      ],
      "metadata": {
        "id": "Z5bfVeOvKn29"
      },
      "execution_count": 4,
      "outputs": []
    },
    {
      "cell_type": "code",
      "source": [
        "def dfs(graph, v, visited):\n",
        "  visited[v] = True\n",
        "  print(v, end='')\n",
        "  for i in graph[v]:\n",
        "    if not visited[i]:\n",
        "      dfs(graph,i,visited)\n",
        "\n",
        "dfs(graph, 1, visited)"
      ],
      "metadata": {
        "colab": {
          "base_uri": "https://localhost:8080/"
        },
        "id": "nAJ-ka-mbZ_b",
        "outputId": "8f000cf4-8714-4b8a-eee5-e49d8b06a4a5"
      },
      "execution_count": 5,
      "outputs": [
        {
          "output_type": "stream",
          "name": "stdout",
          "text": [
            "i: 2 v: 1\n",
            "no\n",
            "i: 1 v: 2\n",
            "i: 7 v: 2\n",
            "no\n",
            "i: 2 v: 7\n",
            "i: 6 v: 7\n",
            "no\n",
            "i: 7 v: 6\n",
            "i: 8 v: 7\n",
            "no\n",
            "i: 1 v: 8\n",
            "i: 7 v: 8\n",
            "i: 3 v: 1\n",
            "no\n",
            "i: 1 v: 3\n",
            "i: 4 v: 3\n",
            "no\n",
            "i: 3 v: 4\n",
            "i: 5 v: 4\n",
            "no\n",
            "i: 3 v: 5\n",
            "i: 4 v: 5\n",
            "i: 5 v: 3\n",
            "i: 8 v: 1\n"
          ]
        }
      ]
    }
  ]
}
