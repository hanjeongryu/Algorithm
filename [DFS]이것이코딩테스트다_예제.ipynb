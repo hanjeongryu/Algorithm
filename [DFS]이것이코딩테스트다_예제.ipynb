{
  "nbformat": 4,
  "nbformat_minor": 0,
  "metadata": {
    "colab": {
      "provenance": []
    },
    "kernelspec": {
      "name": "python3",
      "display_name": "Python 3"
    },
    "language_info": {
      "name": "python"
    }
  },
  "cells": [
    {
      "cell_type": "markdown",
      "source": [
        "## 정답지\n",
        "[풀이 key]\n",
        "\n",
        "- 재귀함수 사용"
      ],
      "metadata": {
        "id": "lr_j8bkTKgol"
      }
    },
    {
      "cell_type": "code",
      "source": [
        "graph = [\n",
        " []\n",
        ",[2,3,8]\n",
        ",[1,7]\n",
        ",[1,4,5]\n",
        ",[3,5]\n",
        ",[3,4]\n",
        ",[7]\n",
        ",[2,6,8]\n",
        ",[1,7]\n",
        "]\n",
        "visited = [False]*9"
      ],
      "metadata": {
        "id": "Z5bfVeOvKn29"
      },
      "execution_count": 4,
      "outputs": []
    },
    {
      "cell_type": "code",
      "source": [
        "def dfs(graph, v, visited):\n",
        "  visited[v] = True\n",
        "  print(v, end='')\n",
        "  for i in graph[v]:\n",
        "    if not visited[i]:\n",
        "      dfs(graph,i,visited)\n",
        "\n",
        "dfs(graph, 1, visited)"
      ],
  ]
}
