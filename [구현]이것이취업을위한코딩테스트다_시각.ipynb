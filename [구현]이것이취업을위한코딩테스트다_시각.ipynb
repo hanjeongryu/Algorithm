{
  "nbformat": 4,
  "nbformat_minor": 0,
  "metadata": {
    "colab": {
      "provenance": []
    },
    "kernelspec": {
      "name": "python3",
      "display_name": "Python 3"
    },
    "language_info": {
      "name": "python"
    }
  },
  "cells": [
    {
      "cell_type": "markdown",
      "source": [
        "## 정답지\n",
        "[풀이 key]\n",
        "- 완전탐색\n",
        "- 3중 for문으로 시간\\*분\\*초를 조합한 모든 경우의수를 탐색하면서 3을 포함할 경우 카운트+1\n"
      ],
      "metadata": {
        "id": "ZHKWhiAgUa7i"
      }
    },
    {
      "cell_type": "code",
      "source": [
        "import time\n",
        "\n",
        "##########################\n",
        "########## 입력\n",
        "##########################\n",
        "n = int(input())\n",
        "\n",
        "start_time = time.time()\n",
        "\n",
        "##########################\n",
        "########## 풀이\n",
        "##########################\n",
        "count = 0\n",
        "for i in range(n+1):\n",
        "  for j in range(60):\n",
        "    for k in range(60):\n",
        "      # 매 시각 안에 '3'이 포함되어 있다면 카운트 증가\n",
        "      if '3' in str(i) + str(j) + str(k):\n",
        "        count += 1\n",
        "\n",
        "# 정답 출력\n",
        "print(count)\n",
        "\n",
        "##########################\n",
        "########## 시간 측정\n",
        "##########################\n",
        "end_time = time.time()\n",
        "print(end_time - start_time)"
      ],
      "metadata": {
        "colab": {
          "base_uri": "https://localhost:8080/"
        },
        "id": "IusEsICCRZ5p",
        "outputId": "0dd83764-1bc8-4532-b627-29f8354f3c81"
      },
      "execution_count": 10,
      "outputs": [
        {
          "output_type": "stream",
          "name": "stdout",
          "text": [
            "5\n",
            "11475\n",
            "0.015201091766357422\n"
          ]
        }
      ]
    },
    {
      "cell_type": "markdown",
      "source": [
        "## 나의 풀이\n",
        "[풀이 key]\n",
        "- (모든 경우의수) - (n을 포함하지 않는 경우의수)\n"
      ],
      "metadata": {
        "id": "zDkW7RSsXQ5A"
      }
    },
    {
      "cell_type": "code",
      "source": [
        "import time\n",
        "\n",
        "##########################\n",
        "########## 입력\n",
        "##########################\n",
        "n = int(input())\n",
        "\n",
        "start_time = time.time()\n",
        "\n",
        "##########################\n",
        "########## 풀이\n",
        "##########################\n",
        "# n일 때 가능한 시간\n",
        "hour_range = range(n+1)\n",
        "# 불가능한 시간\n",
        "notn_hour_l = [int(x) for x in list(map(lambda x: str(x), hour_range)) if str(n) in x]\n",
        "# 모든 경우의수\n",
        "total = len(hour_range)*6*10*6*10\n",
        "# n을 포함하지 않는 경우의수\n",
        "notn = len(set(hour_range) - set(notn_hour_l))*5*9*5*9\n",
        "\n",
        "# 정답 출력\n",
        "print(total - notn)\n",
        "\n",
        "##########################\n",
        "########## 시간 측정\n",
        "##########################\n",
        "end_time = time.time()\n",
        "print(end_time - start_time)"
      ],
      "metadata": {
        "colab": {
          "base_uri": "https://localhost:8080/"
        },
        "id": "wiqFrF5BWLAK",
        "outputId": "a3b8d5b9-0f27-4ed8-f174-f908fb269cdc"
      },
      "execution_count": 21,
      "outputs": [
        {
          "output_type": "stream",
          "name": "stdout",
          "text": [
            "5\n",
            "11475\n",
            "0.0032193660736083984\n"
          ]
        }
      ]
    },
    {
      "cell_type": "markdown",
      "source": [
        "## 정답지와 나의 풀이 비교\n",
        "정답지 풀이와 비교했을 때 '3중 for문 -> 필요한 부분에 한정하여 for문 사용'으로 변경하여 실행 시간 단축"
      ],
      "metadata": {
        "id": "mc50p42HavRY"
      }
    }
  ]
}