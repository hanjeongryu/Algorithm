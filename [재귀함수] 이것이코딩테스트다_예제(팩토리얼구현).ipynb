{
  "nbformat": 4,
  "nbformat_minor": 0,
  "metadata": {
    "colab": {
      "provenance": []
    },
    "kernelspec": {
      "name": "python3",
      "display_name": "Python 3"
    },
    "language_info": {
      "name": "python"
    }
  },
  "cells": [
    {
      "cell_type": "code",
      "execution_count": 8,
      "metadata": {
        "id": "V-SNPJngJLTr"
      },
      "outputs": [],
      "source": [
        "import time"
      ]
    },
    {
      "cell_type": "markdown",
      "source": [
        "1. 반복문으로 구현한 n!"
      ],
      "metadata": {
        "id": "AuQjlTxJqijV"
      }
    },
    {
      "cell_type": "code",
      "source": [
        "start_time = time.time()\n",
        "def factorial_iterative(n):\n",
        "  result = 1\n",
        "  for i in range(1,n+1):\n",
        "    result *= i\n",
        "  return result\n",
        "factorial_iterative(3)\n",
        "end_time = time.time()\n",
        "print(\"소요시간: \", end_time - start_time)"
      ],
      "metadata": {
        "colab": {
          "base_uri": "https://localhost:8080/"
        },
        "id": "zkRfmAiurH6z",
        "outputId": "cb826404-d912-4c0d-97ba-495667708077"
      },
      "execution_count": 12,
      "outputs": [
        {
          "output_type": "stream",
          "name": "stdout",
          "text": [
            "소요시간:  0.00018906593322753906\n"
          ]
        }
      ]
    },
    {
      "cell_type": "markdown",
      "source": [
        "2. 재귀적으로 구현한 n!"
      ],
      "metadata": {
        "id": "ZGTX9EfdqcuX"
      }
    },
    {
      "cell_type": "code",
      "source": [
        "start_time = time.time()\n",
        "def factorial_recursive(n):\n",
        "  if n<=1:\n",
        "    return 1\n",
        "  return n*factorial_recursive(n-1)\n",
        "factorial_recursive(3)\n",
        "end_time = time.time()\n",
        "print(\"소요시간: \", end_time - start_time)"
      ],
      "metadata": {
        "colab": {
          "base_uri": "https://localhost:8080/"
        },
        "id": "R0r4hipQqhSf",
        "outputId": "2d704209-debe-4e8d-8b9a-f5b42604bf58"
      },
      "execution_count": 13,
      "outputs": [
        {
          "output_type": "stream",
          "name": "stdout",
          "text": [
            "소요시간:  0.00023698806762695312\n"
          ]
        }
      ]
    }
  ]
}
