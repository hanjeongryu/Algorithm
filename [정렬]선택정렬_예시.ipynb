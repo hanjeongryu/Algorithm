{
  "nbformat": 4,
  "nbformat_minor": 0,
  "metadata": {
    "colab": {
      "provenance": []
    },
    "kernelspec": {
      "name": "python3",
      "display_name": "Python 3"
    },
    "language_info": {
      "name": "python"
    }
  },
  "cells": [
    {
      "cell_type": "markdown",
      "source": [
        "## 선택 정렬  \n",
        "- N번 만큼 가장 작은 수를 찾아 맨 앞으로 보낸다.  \n",
        "- 전체 연산 횟수: N + (N-1) + (N-2) + ... + 2 => (N^2 + N - 2)/2 => O(N^2)"
      ],
      "metadata": {
        "id": "MhuRMl5OYjyB"
      }
    },
    {
      "cell_type": "code",
      "source": [
        "array = [7,5,9,0,3,1,6,2,4,8]\n",
        "\n",
        "for i in range(len(array)):\n",
        "  # 첫 번째 자리 원소(A)의 인덱스(i)\n",
        "  min_index = i\n",
        "  # 첫 번째 자리 이외의 원소들을 탐색하면서 최소 원소(B) 인덱스(j) 구하기\n",
        "  for j in range(i+1,len(array)):\n",
        "    print(\"i,j:{},{}\".format(i,j))\n",
        "    #첫 번째 자리 원소 > j번째 자리 원소 => min_index를 j로 업데이트\n",
        "    if array[min_index] > array[j]:\n",
        "      min_index = j\n",
        "      print(\"min_index을(를) {0}로 업데이트\".format(j))\n",
        "  # 첫 번째 자리 원소(A)와 나머지 자리 중 최소 원소(B)의 자리 switch\n",
        "  array[i], array[min_index] = array[min_index], array[i]\n",
        "  print(\"====={}번째 자리수인 {}와 그 뒤에 위치한 숫자 중 하나인 {}의 위치를 교환하였음\".format(i,array[min_index],array[i]))\n",
        "  print(\"=====이제 {}번째에 {}이 오게됨\".format(i,array[i]))\n",
        "print(array)"
      ],
      "metadata": {
        "colab": {
          "base_uri": "https://localhost:8080/"
        },
        "id": "7EtGATkSOxYQ",
        "outputId": "5f40c55a-9bd6-41fc-c840-597e3ea51e98"
      },
      "execution_count": 21,
      "outputs": [
        {
          "output_type": "stream",
          "name": "stdout",
          "text": [
            "i,j:0,1\n",
            "min_index을(를) 1로 업데이트\n",
            "i,j:0,2\n",
            "i,j:0,3\n",
            "min_index을(를) 3로 업데이트\n",
            "i,j:0,4\n",
            "i,j:0,5\n",
            "i,j:0,6\n",
            "i,j:0,7\n",
            "i,j:0,8\n",
            "i,j:0,9\n",
            "=====0번째 자리수인 7와 그 뒤에 위치한 숫자 중 하나인 0의 위치를 교환하였음\n",
            "=====이제 0번째에 0이 오게됨\n",
            "i,j:1,2\n",
            "i,j:1,3\n",
            "i,j:1,4\n",
            "min_index을(를) 4로 업데이트\n",
            "i,j:1,5\n",
            "min_index을(를) 5로 업데이트\n",
            "i,j:1,6\n",
            "i,j:1,7\n",
            "i,j:1,8\n",
            "i,j:1,9\n",
            "=====1번째 자리수인 5와 그 뒤에 위치한 숫자 중 하나인 1의 위치를 교환하였음\n",
            "=====이제 1번째에 1이 오게됨\n",
            "i,j:2,3\n",
            "min_index을(를) 3로 업데이트\n",
            "i,j:2,4\n",
            "min_index을(를) 4로 업데이트\n",
            "i,j:2,5\n",
            "i,j:2,6\n",
            "i,j:2,7\n",
            "min_index을(를) 7로 업데이트\n",
            "i,j:2,8\n",
            "i,j:2,9\n",
            "=====2번째 자리수인 9와 그 뒤에 위치한 숫자 중 하나인 2의 위치를 교환하였음\n",
            "=====이제 2번째에 2이 오게됨\n",
            "i,j:3,4\n",
            "min_index을(를) 4로 업데이트\n",
            "i,j:3,5\n",
            "i,j:3,6\n",
            "i,j:3,7\n",
            "i,j:3,8\n",
            "i,j:3,9\n",
            "=====3번째 자리수인 7와 그 뒤에 위치한 숫자 중 하나인 3의 위치를 교환하였음\n",
            "=====이제 3번째에 3이 오게됨\n",
            "i,j:4,5\n",
            "min_index을(를) 5로 업데이트\n",
            "i,j:4,6\n",
            "i,j:4,7\n",
            "i,j:4,8\n",
            "min_index을(를) 8로 업데이트\n",
            "i,j:4,9\n",
            "=====4번째 자리수인 7와 그 뒤에 위치한 숫자 중 하나인 4의 위치를 교환하였음\n",
            "=====이제 4번째에 4이 오게됨\n",
            "i,j:5,6\n",
            "i,j:5,7\n",
            "i,j:5,8\n",
            "i,j:5,9\n",
            "=====5번째 자리수인 5와 그 뒤에 위치한 숫자 중 하나인 5의 위치를 교환하였음\n",
            "=====이제 5번째에 5이 오게됨\n",
            "i,j:6,7\n",
            "i,j:6,8\n",
            "i,j:6,9\n",
            "=====6번째 자리수인 6와 그 뒤에 위치한 숫자 중 하나인 6의 위치를 교환하였음\n",
            "=====이제 6번째에 6이 오게됨\n",
            "i,j:7,8\n",
            "min_index을(를) 8로 업데이트\n",
            "i,j:7,9\n",
            "=====7번째 자리수인 9와 그 뒤에 위치한 숫자 중 하나인 7의 위치를 교환하였음\n",
            "=====이제 7번째에 7이 오게됨\n",
            "i,j:8,9\n",
            "min_index을(를) 9로 업데이트\n",
            "=====8번째 자리수인 9와 그 뒤에 위치한 숫자 중 하나인 8의 위치를 교환하였음\n",
            "=====이제 8번째에 8이 오게됨\n",
            "=====9번째 자리수인 9와 그 뒤에 위치한 숫자 중 하나인 9의 위치를 교환하였음\n",
            "=====이제 9번째에 9이 오게됨\n",
            "[0, 1, 2, 3, 4, 5, 6, 7, 8, 9]\n"
          ]
        }
      ]
    }
  ]
}