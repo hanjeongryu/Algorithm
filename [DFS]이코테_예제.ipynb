{
  "nbformat": 4,
  "nbformat_minor": 0,
  "metadata": {
    "colab": {
      "provenance": []
    },
    "kernelspec": {
      "name": "python3",
      "display_name": "Python 3"
    },
    "language_info": {
      "name": "python"
    }
  },
  "cells": [
    {
      "cell_type": "markdown",
      "source": [
        "## 정답지\n",
        "[풀이 key]\n",
        "\n",
        "- 재귀함수 사용  "
      ],
      "metadata": {
        "id": "lr_j8bkTKgol"
      }
    },
    {
      "cell_type": "code",
      "source": [
        "graph = [\n",
        " []\n",
        ",[2,3,8]\n",
        ",[1,7]\n",
        ",[1,4,5]\n",
        ",[3,5]\n",
        ",[3,4]\n",
        ",[7]\n",
        ",[2,6,8]\n",
        ",[1,7]\n",
        "]\n",
        "visited = [False]*9"
      ],
      "metadata": {
        "id": "Z5bfVeOvKn29"
      },
      "execution_count": 23,
      "outputs": []
    },
    {
      "cell_type": "code",
      "source": [
        "result = []\n",
        "def dfs(graph, v, visited):\n",
        "  visited[v] = True\n",
        "  result.append(v)\n",
        "  for i in graph[v]:\n",
        "    print(\"i:\",i,\"/ v:\",v)\n",
        "    # 방문한 적이 없는 노드인 경우\n",
        "    if not visited[i]:\n",
        "      print(\"dfs({}) 시작!!!\".format(i))\n",
        "      dfs(graph,i,visited)\n",
        "  print(\"dfs({}) 종료\".format(i))\n",
        "\n",
        "dfs(graph, 1, visited)\n",
        "print(\"결과: \",result)"
      ],
      "metadata": {
        "colab": {
          "base_uri": "https://localhost:8080/"
        },
        "id": "nAJ-ka-mbZ_b",
        "outputId": "f28de30d-0ec2-4193-da2e-90aa1bdfe8b2"
      },
      "execution_count": 24,
      "outputs": [
        {
          "output_type": "stream",
          "name": "stdout",
          "text": [
            "i: 2 / v: 1\n",
            "dfs(2) 시작!!!\n",
            "i: 1 / v: 2\n",
            "i: 7 / v: 2\n",
            "dfs(7) 시작!!!\n",
            "i: 2 / v: 7\n",
            "i: 6 / v: 7\n",
            "dfs(6) 시작!!!\n",
            "i: 7 / v: 6\n",
            "dfs(7) 종료\n",
            "i: 8 / v: 7\n",
            "dfs(8) 시작!!!\n",
            "i: 1 / v: 8\n",
            "i: 7 / v: 8\n",
            "dfs(7) 종료\n",
            "dfs(8) 종료\n",
            "dfs(7) 종료\n",
            "i: 3 / v: 1\n",
            "dfs(3) 시작!!!\n",
            "i: 1 / v: 3\n",
            "i: 4 / v: 3\n",
            "dfs(4) 시작!!!\n",
            "i: 3 / v: 4\n",
            "i: 5 / v: 4\n",
            "dfs(5) 시작!!!\n",
            "i: 3 / v: 5\n",
            "i: 4 / v: 5\n",
            "dfs(4) 종료\n",
            "dfs(5) 종료\n",
            "i: 5 / v: 3\n",
            "dfs(5) 종료\n",
            "i: 8 / v: 1\n",
            "dfs(8) 종료\n",
            "결과:  [1, 2, 7, 6, 8, 3, 4, 5]\n"
          ]
        }
      ]
    },
    {
      "cell_type": "code",
      "source": [],
      "metadata": {
        "id": "Fe8HflMjdBS1"
      },
      "execution_count": null,
      "outputs": []
    }
  ]
}
