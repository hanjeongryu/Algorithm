{
  "nbformat": 4,
  "nbformat_minor": 0,
  "metadata": {
    "colab": {
      "provenance": []
    },
    "kernelspec": {
      "name": "python3",
      "display_name": "Python 3"
    },
    "language_info": {
      "name": "python"
    }
  },
  "cells": [
    {
      "cell_type": "markdown",
      "source": [
        "## 정답지\n",
        "[풀이 key]\n",
        "- dx, dy, move_type 설정\n",
        "- 이중 for문으로 입력된 방향에 따른 임시 위치(nx, ny) 설정\n",
        "- 임시 위치가 이동 가능 범위 내일 때 실제 위치를 임시 위치로 변경"
      ],
      "metadata": {
        "id": "MqrQVnc0mTD_"
      }
    },
    {
      "cell_type": "code",
      "source": [
        "import time\n",
        "\n",
        "n = int(input())\n",
        "data = input().split()\n",
        "x,y = 1,1\n",
        "\n",
        "dx = [1,0,-1,0]\n",
        "dy = [0,1,0,-1]\n",
        "move_type = ['D','R','U','L']\n",
        "\n",
        "start_time = time.time()\n",
        "\n",
        "# 입력된 방향에 따라 임시 위치(nx, ny)를 할당\n",
        "for d in data:\n",
        "  for i in range(4):\n",
        "    if d == move_type[i]:\n",
        "      nx = x + dx[i]\n",
        "      ny = y + dy[i]\n",
        "  # 임시 위치가 이동 가능 범위 내일 때 실제 위치(x,y)를 임시 위치로 변경\n",
        "  if nx < 1 or ny < 1 or nx > n or ny > n:\n",
        "    continue\n",
        "  else:\n",
        "    x = nx\n",
        "    y = ny\n",
        "\n",
        "print(x,y)\n",
        "\n",
        "end_time = time.time()\n",
        "print(end_time - start_time)"
      ],
      "metadata": {
        "id": "htrXQ_oUmRSw"
      },
      "execution_count": null,
      "outputs": []
    },
    {
      "cell_type": "markdown",
      "source": [
        "## 나의 풀이\n",
        "[풀이 key]\n",
        "- dx, dy 설정\n",
        "- for문으로 입력된 방향대로 위치 이동\n",
        "- 이동한 위치가 이동 가능 범위를 벗어나는 경우 원상복구"
      ],
      "metadata": {
        "id": "5dLGQ8OXm013"
      }
    },
    {
      "cell_type": "code",
      "source": [
        "import time\n",
        "\n",
        "n = int(input())\n",
        "data = input().split()\n",
        "x,y = 1,1\n",
        "dx = [1,0,-1,0]\n",
        "dy = [0,1,0,-1]\n",
        "\n",
        "start_time = time.time()\n",
        "\n",
        "for d in data:\n",
        "  # 입력된 방향대로 이동\n",
        "  if d == 'R':\n",
        "    y = y + 1\n",
        "  elif d == 'L':\n",
        "    y = y - 1\n",
        "  elif d =='U':\n",
        "    x = x - 1\n",
        "  else:\n",
        "    x = x + 1\n",
        "\n",
        "  # 이동한 위치가 이동할 수 있는 범위를 벗어난 경우 원상복구\n",
        "  if x < 1:\n",
        "    x += 1\n",
        "  elif x > n:\n",
        "    x -= 1\n",
        "  elif y < 1:\n",
        "    y += 1\n",
        "  elif y > n:\n",
        "    y -= 1\n",
        "\n",
        "print(x,y)\n",
        "\n",
        "end_time = time.time()\n",
        "print(end_time - start_time)"
      ],
      "metadata": {
        "colab": {
          "base_uri": "https://localhost:8080/"
        },
        "id": "icMkTvgYyi2r",
        "outputId": "545f171b-c32a-4357-bc78-c0aecca1eeb2"
      },
      "execution_count": 5,
      "outputs": [
        {
          "output_type": "stream",
          "name": "stdout",
          "text": [
            "5\n",
            "R R R U D D\n",
            "3 4\n",
            "0.0018553733825683594\n"
          ]
        }
      ]
    },
    {
      "cell_type": "markdown",
      "source": [
        "## 정답지와 나의 풀이 비교\n",
        "정답지 풀이와 비교했을 때 '이중 for문 -> for문'으로 변경하여 실행 시간 단축"
      ],
      "metadata": {
        "id": "GIuRey0dncrI"
      }
    },
    {
      "cell_type": "code",
      "source": [],
      "metadata": {
        "id": "s-MzFJ7R2wv0"
      },
      "execution_count": null,
      "outputs": []
    }
  ]
}