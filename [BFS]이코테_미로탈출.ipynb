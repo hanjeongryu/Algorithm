{
  "nbformat": 4,
  "nbformat_minor": 0,
  "metadata": {
    "colab": {
      "provenance": []
    },
    "kernelspec": {
      "name": "python3",
      "display_name": "Python 3"
    },
    "language_info": {
      "name": "python"
    }
  },
  "cells": [
    {
      "cell_type": "code",
      "execution_count": 2,
      "metadata": {
        "id": "lMT4GhGe8--E"
      },
      "outputs": [],
      "source": [
        "from collections import deque\n",
        "import time"
      ]
    },
    {
      "cell_type": "markdown",
      "source": [
        "## 나의 풀이  \n",
        "[풀이 key]\n",
        "- BFS 활용\n",
        "- 연결된 위치가 복수 개일 때 최종 지점과 가까운 쪽으로 이동\n",
        "- 최종 지점에 다다르면 종료(1의 전부를 탐색하지 않아도 됨)\n",
        "\n",
        "[Issue]\n",
        "  - 예외 처리 못하는 문제 발생 -> 틀린 풀이!\n",
        "    - 동서남북 방향 4개 위치 중 최종 지점까지의 거리가 동일한 위치가 두 개 이상 존재할 때(가로, 세로 길이가 같을 때 발생)\n",
        "    - 중간에 끊기는 방향으로 이동했을 때"
      ],
      "metadata": {
        "id": "TgkCwvNoukCH"
      }
    },
    {
      "cell_type": "code",
      "source": [
        "# N, M을 공백을 기준으로 구분하여 입력 받기\n",
        "n,m = map(int, input().split())\n",
        "# 2차원 리스트의 맵 정보 입력 받기\n",
        "graph = []\n",
        "for i in range(n):\n",
        "  graph.append(list(map(int, input())))\n",
        "\n",
        "# 이동할 네 가지 방향 정의 (하,우,상,좌)\n",
        "dx = [1,0,-1,0]\n",
        "dy = [0,1,0,-1]\n",
        "\n",
        "# 시작 시간\n",
        "start_time = time.time()\n",
        "\n",
        "start = (0,0)\n",
        "n_,m_ = (n-1,m-1)\n",
        "\n",
        "queue = deque([start])\n",
        "graph[start[0]][start[1]] = 0\n",
        "\n",
        "result = 1\n",
        "while queue[0] != (n_,m_):\n",
        "  # 큐(Queue) 구현을 위해 deque 라이브러리 사용\n",
        "  v = queue.popleft()\n",
        "  # dist 초기값 설정\n",
        "  dist_update = 40017\n",
        "  # 현재 위치에서 4가지 방향으로의 위치 확인\n",
        "  for i in range(4):\n",
        "    nx = v[0] + dx[i]\n",
        "    ny = v[1] + dy[i]\n",
        "    # 미로 범위 안에 있을 때만 필터링\n",
        "    if nx>=0 and nx<n and ny>=0 and ny<m:\n",
        "      # 벽/괴물(0)이 없는 곳만 필터링\n",
        "      if graph[nx][ny] == 1:\n",
        "        # 최종 지점과의 거리(루트 생략)\n",
        "        dist = ((((n_)-nx)**2) + (((m_)-ny)**2))\n",
        "        # 1 중 방문한 곳은 0으로 치환\n",
        "        graph[nx][ny] = 0\n",
        "        # 동서남북 네 방향 중 최종 지점과의 거리가 짧은 쪽만 append\n",
        "        if dist < dist_update:\n",
        "          dist_update = dist\n",
        "          queue.append((nx, ny))\n",
        "          result += 1\n",
        "\n",
        "print(result)\n",
        "\n",
        "end_time = time.time()\n",
        "print(end_time - start_time)"
      ],
      "metadata": {
        "colab": {
          "base_uri": "https://localhost:8080/"
        },
        "id": "PNcgEbLB9ToB",
        "outputId": "0c975c6a-9014-48f6-fc6c-8a90846d448f"
      },
      "execution_count": 17,
      "outputs": [
        {
          "output_type": "stream",
          "name": "stdout",
          "text": [
            "5 6\n",
            "101010\n",
            "111111\n",
            "000001\n",
            "111111\n",
            "111111\n",
            "10\n",
            "0.0013935565948486328\n"
          ]
        }
      ]
    },
    {
      "cell_type": "code",
      "source": [
        "graph"
      ],
      "metadata": {
        "colab": {
          "base_uri": "https://localhost:8080/"
        },
        "id": "FV3Td_rTyFUI",
        "outputId": "018ea2e1-c5a7-47f5-cc8c-d4a8571e87a5"
      },
      "execution_count": 18,
      "outputs": [
        {
          "output_type": "execute_result",
          "data": {
            "text/plain": [
              "[[0, 0, 0, 0, 0, 0],\n",
              " [0, 0, 0, 0, 0, 0],\n",
              " [0, 0, 0, 0, 0, 0],\n",
              " [1, 1, 1, 1, 0, 0],\n",
              " [1, 1, 1, 1, 1, 0]]"
            ]
          },
          "metadata": {},
          "execution_count": 18
        }
      ]
    },
    {
      "cell_type": "markdown",
      "source": [
        "## 정답지  \n",
        "- BFS 활용  \n",
        "- 이동할 때마다 1을 더해주는 방식\n",
        "- queue가 소진될 때 종료(모든 1을 탐색해야 함)"
      ],
      "metadata": {
        "id": "_W-vyrelxDpD"
      }
    },
    {
      "cell_type": "code",
      "source": [
        "# N, M을 공백을 기준으로 구분하여 입력 받기\n",
        "n,m = map(int, input().split())\n",
        "# 2차원 리스트의 맵 정보 입력 받기\n",
        "graph = []\n",
        "for i in range(n):\n",
        "  graph.append(list(map(int, input())))\n",
        "\n",
        "# 이동할 네 가지 방향 정의 (하,우,상,좌)\n",
        "dx = [1,0,-1,0]\n",
        "dy = [0,1,0,-1]\n",
        "\n",
        "# 시작 시간\n",
        "start_time = time.time()\n",
        "\n",
        "start = (0,0)\n",
        "\n",
        "queue = deque([start])\n",
        "\n",
        "while queue:\n",
        "  # 큐(Queue) 구현을 위해 deque 라이브러리 사용\n",
        "  x,y = queue.popleft()\n",
        "  # 현재 위치에서 4가지 방향으로의 위치 확인\n",
        "  for i in range(4):\n",
        "    nx = x + dx[i]\n",
        "    ny = y + dy[i]\n",
        "    # 미로 범위 안에 있을 때만 필터링\n",
        "    if nx>=0 and nx<n and ny>=0 and ny<m:\n",
        "      # 벽/괴물(0)이 없는 곳만 필터링\n",
        "      if graph[nx][ny] == 1:\n",
        "        graph[nx][ny] = graph[x][y] + 1\n",
        "        queue.append((nx, ny))\n",
        "\n",
        "print(graph[n-1][m-1])\n",
        "\n",
        "end_time = time.time()\n",
        "print(end_time - start_time)\n",
        "\n",
        "# for i in graph:\n",
        "#   for j in graph:\n",
        "#     if graph[i][j] == 1:\n",
        "#       dfs(graph, (1,1))\n",
        "\n"
      ],
      "metadata": {
        "colab": {
          "base_uri": "https://localhost:8080/"
        },
        "id": "Ss1r0uGWhatf",
        "outputId": "f55aaee1-e54d-4c5e-f8ef-ddfd82b9f561"
      },
      "execution_count": 15,
      "outputs": [
        {
          "output_type": "stream",
          "name": "stdout",
          "text": [
            "5 6\n",
            "101010\n",
            "111111\n",
            "000001\n",
            "111111\n",
            "111111\n",
            "10\n",
            "0.0013897418975830078\n"
          ]
        }
      ]
    },
    {
      "cell_type": "code",
      "source": [
        "graph"
      ],
      "metadata": {
        "colab": {
          "base_uri": "https://localhost:8080/"
        },
        "id": "WCymaNIxi6Rg",
        "outputId": "755d65ca-af97-4760-db9b-1529d1ec0b39"
      },
      "execution_count": 16,
      "outputs": [
        {
          "output_type": "execute_result",
          "data": {
            "text/plain": [
              "[[3, 0, 5, 0, 7, 0],\n",
              " [2, 3, 4, 5, 6, 7],\n",
              " [0, 0, 0, 0, 0, 8],\n",
              " [14, 13, 12, 11, 10, 9],\n",
              " [15, 14, 13, 12, 11, 10]]"
            ]
          },
          "metadata": {},
          "execution_count": 16
        }
      ]
    }
  ]
}
