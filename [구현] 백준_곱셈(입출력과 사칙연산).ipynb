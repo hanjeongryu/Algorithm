{
 "cells": [
  {
   "cell_type": "code",
   "execution_count": null,
   "id": "2d23a5f2",
   "metadata": {},
   "outputs": [],
   "source": [
    "a = int(input())\n",
    "b = int(input())\n",
    "\n",
    "###########################\n",
    "##### STEP1: b를 분해 \n",
    "###########################\n",
    "\n",
    "# 1의 자리 수\n",
    "by1 = b % 10\n",
    "# 10의 자리 수\n",
    "by10 = (b % 100) // 10\n",
    "# 100의 자리 수\n",
    "by100 = b // 100\n",
    "\n",
    "###########################\n",
    "##### STEP2: 출력값 구하기 \n",
    "###########################\n",
    "\n",
    "# (3)의 위치에 들어갈 값\n",
    "answer3 = a * by1\n",
    "answer4 = a * by10\n",
    "answer5 = a * by100\n",
    "answer6 = answer5 * 100 + answer4 * 10 + answer3\n",
    "\n",
    "###########################\n",
    "##### STEP3: 출력\n",
    "###########################\n",
    "\n",
    "print(answer3)\n",
    "print(answer4)\n",
    "print(answer5)\n",
    "print(answer6)"
   ]
  }
 ],
 "metadata": {
  "kernelspec": {
   "display_name": "Python 3 (ipykernel)",
   "language": "python",
   "name": "python3"
  },
  "language_info": {
   "codemirror_mode": {
    "name": "ipython",
    "version": 3
   },
   "file_extension": ".py",
   "mimetype": "text/x-python",
   "name": "python",
   "nbconvert_exporter": "python",
   "pygments_lexer": "ipython3",
   "version": "3.11.5"
  }
 },
 "nbformat": 4,
 "nbformat_minor": 5
}
