{
  "nbformat": 4,
  "nbformat_minor": 0,
  "metadata": {
    "colab": {
      "provenance": []
    },
    "kernelspec": {
      "name": "python3",
      "display_name": "Python 3"
    },
    "language_info": {
      "name": "python"
    }
  },
  "cells": [
    {
      "cell_type": "markdown",
      "source": [
        "## 정답지\n",
        "[풀이 key]\n",
        "- 모험가의 공포도를 낮은순으로 정렬\n",
        "- \"현재 그룹의 모험가 수 >= 현재 모험가의 공포도\"일때 다음 그룹으로 넘어감\n",
        "\n"
      ],
      "metadata": {
        "id": "HrcJmzJLpORq"
      }
    },
    {
      "cell_type": "code",
      "source": [
        "import time\n",
        "\n",
        "n = int(input())\n",
        "data = list(map(int, input().split()))\n",
        "data.sort()\n",
        "\n",
        "start_time = time.time()\n",
        "\n",
        "result = 0 # 총 그룹의 수\n",
        "count = 0 # 현재 그룹에 포함된 모험가 수\n",
        "\n",
        "for d in data:\n",
        "  count += 1\n",
        "  if count >= d:\n",
        "    result += 1\n",
        "    count = 0\n",
        "\n",
        "end_time = time.time()\n",
        "print(end_time - start_time)\n",
        "print(result)"
      ],
      "metadata": {
        "colab": {
          "base_uri": "https://localhost:8080/"
        },
        "id": "QL84NARspJAL",
        "outputId": "c32dedd9-da61-4eae-aa72-705281848a05"
      },
      "execution_count": 5,
      "outputs": [
        {
          "output_type": "stream",
          "name": "stdout",
          "text": [
            "6\n",
            "3 2 2 1 1 1\n",
            "0.0002753734588623047\n"
          ]
        }
      ]
    },
    {
      "cell_type": "code",
      "source": [
        "print(result)"
      ],
      "metadata": {
        "colab": {
          "base_uri": "https://localhost:8080/"
        },
        "id": "MIJz4r4brkMe",
        "outputId": "57fb8926-0505-4f7d-ea86-61152834953b"
      },
      "execution_count": 2,
      "outputs": [
        {
          "output_type": "stream",
          "name": "stdout",
          "text": [
            "2\n"
          ]
        }
      ]
    },
    {
      "cell_type": "markdown",
      "source": [
        "## 나의 풀이\n",
        "[풀이 key]\n",
        "1. 모험가의 공포도를 역순으로 정렬\n",
        "2. 모험가의 공포도와 같은 수의 모험가로 이루어진 그룹 생성\n",
        "3. 2에서 생성된 그룹에 포함된 모험가를 데이터에서 삭제\n"
      ],
      "metadata": {
        "id": "IxaE-MSFqCtK"
      }
    },
    {
      "cell_type": "code",
      "source": [
        "import time\n",
        "\n",
        "n = int(input())\n",
        "data = list(map(int, input().split()))\n",
        "data.sort()\n",
        "\n",
        "start_time = time.time()\n",
        "\n",
        "result = 0 # 현재 그룹의 수\n",
        "while data:\n",
        "  d = data.pop()\n",
        "  for i in range(1,d):\n",
        "    data.pop()\n",
        "  result += 1\n",
        "\n",
        "end_time = time.time()\n",
        "print(end_time - start_time)\n",
        "print(result)"
      ],
      "metadata": {
        "colab": {
          "base_uri": "https://localhost:8080/"
        },
        "id": "oqozOhWeogxX",
        "outputId": "d56fda06-5a1d-4f31-8e84-b8e4fe9adb03"
      },
      "execution_count": 6,
      "outputs": [
        {
          "output_type": "stream",
          "name": "stdout",
          "text": [
            "6\n",
            "3 2 2 1 1 1 \n",
            "0.0002148151397705078\n"
          ]
        }
      ]
    },
    {
      "cell_type": "markdown",
      "source": [
        "## 정답지와 나의 풀이 비교\n",
        "생성할 수 있는 최대한의 그룹을 생성하는 것은 동일하나 접근법이 다름. 비즈니스적인 요구조건에 따라 취사 선택이 가능할듯. 정답지는 최소 인원으로 최대 수의 그룹을 생성하고 내 풀이는 초급 모험가(공포도가 높은)만으로 최대 수의 그룹을 생성함(고급 모험가를 남겨둘 수 있음)\n"
      ],
      "metadata": {
        "id": "qMJQBq3dq9hZ"
      }
    }
  ]
}