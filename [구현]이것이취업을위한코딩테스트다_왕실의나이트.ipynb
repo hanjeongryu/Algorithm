{
  "nbformat": 4,
  "nbformat_minor": 0,
  "metadata": {
    "colab": {
      "provenance": []
    },
    "kernelspec": {
      "name": "python3",
      "display_name": "Python 3"
    },
    "language_info": {
      "name": "python"
    }
  },
  "cells": [
    {
      "cell_type": "markdown",
      "source": [
        "## 나의 풀이\n",
        "[풀이 key]\n",
        "- 이동 가능한 8가지 경로를 하나씩 확인"
      ],
      "metadata": {
        "id": "477N7Yk1MTiQ"
      }
    },
    {
      "cell_type": "code",
      "source": [
        "import time\n",
        "\n",
        "data = input()\n",
        "\n",
        "start_time = time.time()\n",
        "\n",
        "x = int(data[1])\n",
        "y = ord(data[0]) - 96\n",
        "\n",
        "dx = [2,2,1,1,-2,-2,-1,-1]\n",
        "dy = [1,-1,2,-2,1,-1,2,-2]\n",
        "count = 0\n",
        "for i in range(8):\n",
        "  nx = x + dx[i]\n",
        "  ny = y + dy[i]\n",
        "  if nx >= 1 and nx <= 8 and ny >= 1 and ny <= 8:\n",
        "    count += 1\n",
        "\n",
        "print(count)\n",
        "\n",
        "end_time = time.time()\n",
        "print(end_time - start_time)"
      ],
      "metadata": {
        "colab": {
          "base_uri": "https://localhost:8080/"
        },
        "id": "cRZBiRccMWW-",
        "outputId": "4f084b88-fe7e-40cb-9eee-201552391906"
      },
      "execution_count": 27,
      "outputs": [
        {
          "output_type": "stream",
          "name": "stdout",
          "text": [
            "a1\n",
            "2\n",
            "0.0011560916900634766\n"
          ]
        }
      ]
    },
    {
      "cell_type": "markdown",
      "source": [
        "## 정답지\n",
        "[풀이 key]\n",
        "- 이동 가능한 8가지 경로를 하나씩 확인"
      ],
      "metadata": {
        "id": "r11VQOO3MGe-"
      }
    },
    {
      "cell_type": "code",
      "source": [
        "import time\n",
        "\n",
        "data = input()\n",
        "\n",
        "start_time = time.time()\n",
        "\n",
        "x = int(data[1])\n",
        "y = ord(data[0]) - 96\n",
        "\n",
        "# 이동 가능한 8가지 방향\n",
        "steps = [(-2,-1),(-1,-2),(1,-2),(2,-1),(2,1),(1,2),(-1,2),(-2,1)]\n",
        "\n",
        "# 8가지 방향에 대해 각 위치로 이동 가능여부 확인\n",
        "count = 0\n",
        "for step in steps:\n",
        "  nx = x + step[0]\n",
        "  ny = y + step[1]\n",
        "  # 해당 위치로 이동이 가능하다면 카운트 증가\n",
        "  if nx >= 1 and nx <= 8 and ny >= 1 and ny <= 8:\n",
        "    count += 1\n",
        "\n",
        "print(count)\n",
        "\n",
        "end_time = time.time()\n",
        "print(end_time - start_time)"
      ],
      "metadata": {
        "colab": {
          "base_uri": "https://localhost:8080/"
        },
        "id": "nPCIFncnDHSg",
        "outputId": "c84276a6-e788-41c9-c04a-79e1dbd37f1a"
      },
      "execution_count": 26,
      "outputs": [
        {
          "output_type": "stream",
          "name": "stdout",
          "text": [
            "a1\n",
            "2\n",
            "0.001604318618774414\n"
          ]
        }
      ]
    },
    {
      "cell_type": "markdown",
      "source": [
        "## 정답지와 나의 풀이 비교\n",
        "8가지 방향 정의 시 정답지는 튜플, 나의 풀이는 2개의 리스트로 정의한 것을 제외하고 거의 유사함."
      ],
      "metadata": {
        "id": "o559yn1cMgP2"
      }
    }
  ]
}