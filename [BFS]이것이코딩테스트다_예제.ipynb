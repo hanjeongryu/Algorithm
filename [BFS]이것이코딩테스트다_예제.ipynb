{
  "nbformat": 4,
  "nbformat_minor": 0,
  "metadata": {
    "colab": {
      "provenance": []
    },
    "kernelspec": {
      "name": "python3",
      "display_name": "Python 3"
    },
    "language_info": {
      "name": "python"
    }
  },
  "cells": [
    {
      "cell_type": "markdown",
      "source": [
        "## 정답지\n",
        "[풀이 key]\n",
        "- queue 활용  \n",
        "- queue에는 탐색 노드와 연결된 노드 중 방문하지 않은 노드만 담기"
      ],
      "metadata": {
        "id": "SHXH0XvsKRt-"
      }
    },
    {
      "cell_type": "code",
      "source": [
        "from collections import deque\n",
        "graph = [\n",
        "    [],\n",
        "    [2,3,8],\n",
        "    [1,7],\n",
        "    [1,4,5],\n",
        "    [3,5],\n",
        "    [3,4],\n",
        "    [7],\n",
        "    [2,6,8],\n",
        "    [1,7]\n",
        "]\n",
        "visited = [False]*9\n",
        "\n",
        "result = []\n",
        "def bfs(visited, graph, v):\n",
        "  # 시작 노드 방문 처리 / queue에 담기\n",
        "  visited[v] = True\n",
        "  queue = deque([v])\n",
        "  # 모든 노드를 탐색할 때까지\n",
        "  while queue:\n",
        "    # 탐색할 노드를 queue에서 제거 / 결과 리스트에 append\n",
        "    v = queue.popleft()\n",
        "    result.append(v)\n",
        "    # 탐색할 노드와 연결된 노드 탐색\n",
        "    for i in graph[v]:\n",
        "      print(\"노드{}과(와) 연결된 {} 탐색 중..\".format(v,i))\n",
        "      # 연결 노드 중 방문하지 않은 노드만 방문 처리 / queue에 append\n",
        "      if not visited[i]:\n",
        "        queue.append(i)\n",
        "        visited[i] = True\n",
        "      print(queue)\n",
        "    print('\\n')\n",
        "bfs(visited,graph,1)"
      ],
      "metadata": {
        "colab": {
          "base_uri": "https://localhost:8080/"
        },
        "id": "X0idbzeBMJ4O",
        "outputId": "82ad7f26-17bd-43bd-d9f3-f9f5e68341b8"
      },
      "execution_count": 20,
      "outputs": [
        {
          "output_type": "stream",
          "name": "stdout",
          "text": [
            "노드1과(와) 연결된 2 탐색 중..\n",
            "deque([2])\n",
            "노드1과(와) 연결된 3 탐색 중..\n",
            "deque([2, 3])\n",
            "노드1과(와) 연결된 8 탐색 중..\n",
            "deque([2, 3, 8])\n",
            "\n",
            "\n",
            "노드2과(와) 연결된 1 탐색 중..\n",
            "deque([3, 8])\n",
            "노드2과(와) 연결된 7 탐색 중..\n",
            "deque([3, 8, 7])\n",
            "\n",
            "\n",
            "노드3과(와) 연결된 1 탐색 중..\n",
            "deque([8, 7])\n",
            "노드3과(와) 연결된 4 탐색 중..\n",
            "deque([8, 7, 4])\n",
            "노드3과(와) 연결된 5 탐색 중..\n",
            "deque([8, 7, 4, 5])\n",
            "\n",
            "\n",
            "노드8과(와) 연결된 1 탐색 중..\n",
            "deque([7, 4, 5])\n",
            "노드8과(와) 연결된 7 탐색 중..\n",
            "deque([7, 4, 5])\n",
            "\n",
            "\n",
            "노드7과(와) 연결된 2 탐색 중..\n",
            "deque([4, 5])\n",
            "노드7과(와) 연결된 6 탐색 중..\n",
            "deque([4, 5, 6])\n",
            "노드7과(와) 연결된 8 탐색 중..\n",
            "deque([4, 5, 6])\n",
            "\n",
            "\n",
            "노드4과(와) 연결된 3 탐색 중..\n",
            "deque([5, 6])\n",
            "노드4과(와) 연결된 5 탐색 중..\n",
            "deque([5, 6])\n",
            "\n",
            "\n",
            "노드5과(와) 연결된 3 탐색 중..\n",
            "deque([6])\n",
            "노드5과(와) 연결된 4 탐색 중..\n",
            "deque([6])\n",
            "\n",
            "\n",
            "노드6과(와) 연결된 7 탐색 중..\n",
            "deque([])\n",
            "\n",
            "\n"
          ]
        }
      ]
    }
  ]
}