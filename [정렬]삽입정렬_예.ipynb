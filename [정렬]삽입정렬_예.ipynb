{
  "nbformat": 4,
  "nbformat_minor": 0,
  "metadata": {
    "colab": {
      "provenance": []
    },
    "kernelspec": {
      "name": "python3",
      "display_name": "Python 3"
    },
    "language_info": {
      "name": "python"
    }
  },
  "cells": [
    {
      "cell_type": "markdown",
      "source": [
        "## 삽입정렬  \n",
        "- 시간 복잡도: O(N^2)  \n",
        "  - 이유: 선택 정렬과 마찬가지로 이중 for문이므로\n",
        "- 특이사항: 데이터가 정렬된 상태일 때 매우 빠르게 동작  \n",
        "  - 최선의 경우 O(N)의 시간 복잡도를 가짐"
      ],
      "metadata": {
        "id": "-0kQAbn4OJ8k"
      }
    },
    {
      "cell_type": "code",
      "source": [
        "array = [7,5,9,0,3,1,6,2,4,8]\n",
        "\n",
        "# 두 번째 원소부터 하나씩 탐색\n",
        "for i in range(1,len(array)):\n",
        "  # \"탐색 대상\" 원소의 앞방향으로 이동하며 원소 두 개씩 짝지어 비교\n",
        "  for j in range(i,0,-1):\n",
        "    print(\"i,j: {},{}\".format(i,j))\n",
        "    # 비교 쌍의 뒷부분이 작으면 원소를 서로 switch\n",
        "    if array[j] < array[j-1]:\n",
        "      array[j],array[j-1] = array[j-1],array[j]\n",
        "    # 비교 쌍의 앞부분이 작으면 다음 \"탐색 대상\"으로 넘어감\n",
        "    else:\n",
        "      print(\"앞방향의 모든 원소 < 탐색 대상 원소 => 다음 탐색 대상으로 넘어감\")\n",
        "      break\n",
        "print(array)"
      ],
      "metadata": {
        "colab": {
          "base_uri": "https://localhost:8080/"
        },
        "id": "uqCJbPFbOB5N",
        "outputId": "5117af02-424a-4d25-da5a-8e3670550fc9"
      },
      "execution_count": 13,
      "outputs": [
        {
          "output_type": "stream",
          "name": "stdout",
          "text": [
            "i,j: 1,1\n",
            "i,j: 2,2\n",
            "앞방향의 모든 원소 < 탐색 대상 원소 => 다음 탐색 대상으로 넘어감\n",
            "i,j: 3,3\n",
            "i,j: 3,2\n",
            "i,j: 3,1\n",
            "i,j: 4,4\n",
            "i,j: 4,3\n",
            "i,j: 4,2\n",
            "i,j: 4,1\n",
            "앞방향의 모든 원소 < 탐색 대상 원소 => 다음 탐색 대상으로 넘어감\n",
            "i,j: 5,5\n",
            "i,j: 5,4\n",
            "i,j: 5,3\n",
            "i,j: 5,2\n",
            "i,j: 5,1\n",
            "앞방향의 모든 원소 < 탐색 대상 원소 => 다음 탐색 대상으로 넘어감\n",
            "i,j: 6,6\n",
            "i,j: 6,5\n",
            "i,j: 6,4\n",
            "앞방향의 모든 원소 < 탐색 대상 원소 => 다음 탐색 대상으로 넘어감\n",
            "i,j: 7,7\n",
            "i,j: 7,6\n",
            "i,j: 7,5\n",
            "i,j: 7,4\n",
            "i,j: 7,3\n",
            "i,j: 7,2\n",
            "앞방향의 모든 원소 < 탐색 대상 원소 => 다음 탐색 대상으로 넘어감\n",
            "i,j: 8,8\n",
            "i,j: 8,7\n",
            "i,j: 8,6\n",
            "i,j: 8,5\n",
            "i,j: 8,4\n",
            "앞방향의 모든 원소 < 탐색 대상 원소 => 다음 탐색 대상으로 넘어감\n",
            "i,j: 9,9\n",
            "i,j: 9,8\n",
            "앞방향의 모든 원소 < 탐색 대상 원소 => 다음 탐색 대상으로 넘어감\n",
            "[0, 1, 2, 3, 4, 5, 6, 7, 8, 9]\n"
          ]
        }
      ]
    }
  ]
}