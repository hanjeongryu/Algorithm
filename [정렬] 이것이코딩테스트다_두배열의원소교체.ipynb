{
  "nbformat": 4,
  "nbformat_minor": 0,
  "metadata": {
    "colab": {
      "provenance": []
    },
    "kernelspec": {
      "name": "python3",
      "display_name": "Python 3"
    },
    "language_info": {
      "name": "python"
    }
  },
  "cells": [
    {
      "cell_type": "markdown",
      "source": [
        "## 나의 풀이  \n",
        "[풀이 key]\n",
        "- sort 활용"
      ],
      "metadata": {
        "id": "SqR8PsC-SMWk"
      }
    },
    {
      "cell_type": "code",
      "source": [
        "import time\n",
        "\n",
        "n,k = map(int, input().split())\n",
        "a = list(map(int,input().split()))\n",
        "b = list(map(int,input().split()))\n",
        "a.sort(reverse=True)\n",
        "b.sort()"
      ],
      "metadata": {
        "id": "vz7fsJPBSLEc"
      },
      "execution_count": null,
      "outputs": []
    },
    {
      "cell_type": "code",
      "source": [
        "start_time = time.time()\n",
        "\n",
        "for i in range(k):\n",
        "  if a[-1] < b[-1]:\n",
        "    a.insert(0, b.pop())\n",
        "    b.insert(0, a.pop())\n",
        "    print(a,b)\n",
        "  else:\n",
        "    break\n",
        "print(sum(a))\n",
        "\n",
        "end_time = time.time()\n",
        "print(\"소요시간: \", end_time - start_time)"
      ],
      "metadata": {
        "colab": {
          "base_uri": "https://localhost:8080/"
        },
        "id": "VNdTCBca1Snl",
        "outputId": "d47a14dd-5741-4fa7-c35f-60088710a33a"
      },
      "execution_count": 13,
      "outputs": [
        {
          "output_type": "stream",
          "name": "stdout",
          "text": [
            "[6, 5, 4, 3, 2] [1, 5, 5, 5, 6]\n",
            "[6, 6, 5, 4, 3] [2, 1, 5, 5, 5]\n",
            "[5, 6, 6, 5, 4] [3, 2, 1, 5, 5]\n",
            "26\n",
            "소요시간:  0.0024895668029785156\n"
          ]
        }
      ]
    },
    {
      "cell_type": "markdown",
      "source": [
        "## 정답지\n",
        "[풀이 key]\n",
        "- sort 활용"
      ],
      "metadata": {
        "id": "5HKrNIRzSHiz"
      }
    },
    {
      "cell_type": "code",
      "source": [
        "n,k = map(int, input().split())\n",
        "a = list(map(int,input().split()))\n",
        "b = list(map(int,input().split()))\n",
        "a.sort()\n",
        "b.sort(reverse=True)"
      ],
      "metadata": {
        "colab": {
          "base_uri": "https://localhost:8080/"
        },
        "id": "w5AvhApKREjN",
        "outputId": "b1103e86-ec99-4d3c-af28-ac0af1c749b9"
      },
      "execution_count": 14,
      "outputs": [
        {
          "name": "stdout",
          "output_type": "stream",
          "text": [
            "5 3 \n",
            "1 2 5 4 3 \n",
            "5 5 6 6 5\n"
          ]
        }
      ]
    },
    {
      "cell_type": "code",
      "source": [
        "start_time = time.time()\n",
        "\n",
        "for i in range(k):\n",
        "  if a[i] < b[i]:\n",
        "    a[i],b[i] = b[i],a[i]\n",
        "    print(a,b)\n",
        "  else:\n",
        "    break\n",
        "print(sum(a))\n",
        "\n",
        "end_time = time.time()\n",
        "print(\"소요시간: \", end_time - start_time)"
      ],
      "metadata": {
        "colab": {
          "base_uri": "https://localhost:8080/"
        },
        "id": "MlBClDjm1zeS",
        "outputId": "326fac5f-a608-4159-8d2c-a6863a44e3e1"
      },
      "execution_count": 15,
      "outputs": [
        {
          "output_type": "stream",
          "name": "stdout",
          "text": [
            "[6, 2, 3, 4, 5] [1, 6, 5, 5, 5]\n",
            "[6, 6, 3, 4, 5] [1, 2, 5, 5, 5]\n",
            "[6, 6, 5, 4, 5] [1, 2, 3, 5, 5]\n",
            "26\n",
            "소요시간:  0.004413604736328125\n"
          ]
        }
      ]
    },
    {
      "cell_type": "markdown",
      "source": [
        "## 정답지 VS 나의 풀이  \n",
        "- a와 b의 원소를 교환하는 로직이 다름\n",
        "  - 정답지의 경우 양 배열 모두 인덱스를 이용하여 원소를 뽑아내는 반면\n",
        "  - 나의 풀이는 한 배열에서 pop 함수를 통해 원소를 뽑아낸 후 insert로 다른 배열에 삽입함\n",
        "  - 결과적으로 정답지는 배열을 두 번 탐색하지만 나의 풀이는 배열을 한 번만 탐색하면 되므로 시간 단축 가능\n",
        "   "
      ],
      "metadata": {
        "id": "ZOzrbNHsSYGd"
      }
    }
  ]
}
