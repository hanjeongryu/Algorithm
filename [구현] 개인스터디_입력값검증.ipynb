{
 "cells": [
  {
   "cell_type": "markdown",
   "id": "92a79cd7",
   "metadata": {},
   "source": [
    "## 문제\n",
    "a ~ g 변수가 맞게 입력되었다면 다음과 같은 조건을 만족합니다.  \n",
    "    \n",
    "    - a는 5000이상, 10000이하의 숫자입니다.  \n",
    "    - b는 4000 이상의 숫자가 들어있고, a보다 크거나 같을 수도 있고, 작을 수도 있습니다.  \n",
    "    - 단, b가 a보다 크거나같다면 c는 a와 b의 합이고, b가 a보다 작다면 c는 a와 b의 합에서 -300입니다.  \n",
    "    - d는 a와 b와 c를 합친 수이고, e는 a와 b와 c를 합친 수에서 세 배보다 작습니다.  \n",
    "    - f는 나머지 a,b,c,d,e를 합친 숫자보다 5000이 더 큽니다. g는 f의 두 배입니다.  \n",
    "\n",
    "입력된 변수가 조건을 만족하지 못하는 경우 해당 변수를 나타내시오.  \n",
    "    \n",
    "    - 예시)  \n",
    "        - a가 잘못되었습니다.  \n",
    "\t\t- a가 b가 c가 잘못되었습니다.  \n",
    "\t\t- d가 잘못되었습니다.  \n",
    "        \n",
    "단, 모두가 잘못되었을 경우, '모두 잘못되었습니다.'라는 문장이 나타나게 하시오."
   ]
  },
  {
   "cell_type": "markdown",
   "id": "debe7ef3",
   "metadata": {},
   "source": [
    "## 풀이"
   ]
  },
  {
   "cell_type": "code",
   "execution_count": 3,
   "id": "c5c2ea24",
   "metadata": {},
   "outputs": [
    {
     "name": "stdout",
     "output_type": "stream",
     "text": [
      "7000\n",
      "6000\n",
      "12700\n",
      "100\n",
      "1000000\n",
      "1000000000\n",
      "500\n",
      " d가\n",
      " d가 e가\n",
      " d가 e가 f가\n",
      " d가 e가 f가 g가\n",
      " d가 e가 f가 g가 잘못되었습니다.\n"
     ]
    }
   ],
   "source": [
    "a = int(input())\n",
    "b = int(input())\n",
    "pred_c = int(input())\n",
    "d = int(input())\n",
    "e = int(input())\n",
    "f = int(input())\n",
    "g = int(input())\n",
    "\n",
    "cond1 = (a >= 5000) & (a < 10000)\n",
    "cond2 = (b >= 4000)\n",
    "\n",
    "if b >= a:\n",
    "    c = a + b\n",
    "else:\n",
    "    c = a+b - 300\n",
    "    \n",
    "cond3 = (pred_c == c)\n",
    "    \n",
    "cond4 = (d == (a + b + c))\n",
    "cond5 = (e < ((a + b + c) * (3 ** -1)))\n",
    "cond6 = (f == (a + b + c + d + e + 5000))\n",
    "cond7 = (g == (2 * f))\n",
    "\n",
    "output_string = \"\"\n",
    "if cond1 == 0:\n",
    "    output_string = output_string + \" a가\"\n",
    "if cond2 == 0:\n",
    "    output_string = output_string + \" b가\"\n",
    "if cond3 == 0:\n",
    "    output_string = output_string + \" c가\"\n",
    "if cond4 == 0:\n",
    "    output_string = output_string + \" d가\"\n",
    "if cond5 == 0:\n",
    "    output_string = output_string + \" e가\"\n",
    "if cond6 == 0:\n",
    "    output_string = output_string + \" f가\"\n",
    "if cond7 == 0:\n",
    "    if cond1 + cond2 + cond3 + cond4 + cond5 + cond6 + cond7 == 7:\n",
    "        print(\"모두 잘못되었습니다.\")\n",
    "    else: \n",
    "        output_string = output_string + \" g가\"\n",
    "print(output_string, \"잘못되었습니다.\")          "
   ]
  },
  {
   "cell_type": "code",
   "execution_count": null,
   "id": "1b3e4ccb",
   "metadata": {},
   "outputs": [],
   "source": []
  }
 ],
 "metadata": {
  "kernelspec": {
   "display_name": "Python 3 (ipykernel)",
   "language": "python",
   "name": "python3"
  },
  "language_info": {
   "codemirror_mode": {
    "name": "ipython",
    "version": 3
   },
   "file_extension": ".py",
   "mimetype": "text/x-python",
   "name": "python",
   "nbconvert_exporter": "python",
   "pygments_lexer": "ipython3",
   "version": "3.11.5"
  }
 },
 "nbformat": 4,
 "nbformat_minor": 5
}
